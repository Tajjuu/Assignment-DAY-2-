{
  "nbformat": 4,
  "nbformat_minor": 0,
  "metadata": {
    "colab": {
      "name": "Assignment",
      "provenance": [],
      "collapsed_sections": [],
      "authorship_tag": "ABX9TyMWDBtA4rjyvgwp+4iLipfk",
      "include_colab_link": true
    },
    "kernelspec": {
      "name": "python3",
      "display_name": "Python 3"
    },
    "language_info": {
      "name": "python"
    }
  },
  "cells": [
    {
      "cell_type": "markdown",
      "metadata": {
        "id": "view-in-github",
        "colab_type": "text"
      },
      "source": [
        "<a href=\"https://colab.research.google.com/github/Tajjuu/Assignment-DAY-2-/blob/main/Assignment%20Day%202.ipynb\" target=\"_parent\"><img src=\"https://colab.research.google.com/assets/colab-badge.svg\" alt=\"Open In Colab\"/></a>"
      ]
    },
    {
      "cell_type": "code",
      "metadata": {
        "id": "T17BiEIgOOFG"
      },
      "source": [
        "# Brand names arranging in ascedning order\n",
        "list_of_brands1 = [\"Nike\",\"Coca-cola\",\"Pepsi\",\"Adidas\",\"Sony\",\"Reebok\",\"Audi\",\"Zebronic\",\"Bmw\",\"Royal Enfield\"]"
      ],
      "execution_count": 31,
      "outputs": []
    },
    {
      "cell_type": "code",
      "metadata": {
        "id": "CMC9sLANPam9"
      },
      "source": [
        "list_of_brands2 = [\"Dell\",\"Lg\",\"Samsung\",\"Bmw\",\"Porsche\",\"Gucci\",\"Colgate\",\"Tesla\",\"Lenovo,\",\"Louis Vuitton\"]"
      ],
      "execution_count": 32,
      "outputs": []
    },
    {
      "cell_type": "code",
      "metadata": {
        "colab": {
          "base_uri": "https://localhost:8080/"
        },
        "id": "pZv8oENNStnk",
        "outputId": "5b20d6af-aa41-4dfe-a5f5-d75397e75f33"
      },
      "source": [
        "sorted (list_of_brands1 + list_of_brands2)"
      ],
      "execution_count": 33,
      "outputs": [
        {
          "output_type": "execute_result",
          "data": {
            "text/plain": [
              "['Adidas',\n",
              " 'Audi',\n",
              " 'Bmw',\n",
              " 'Bmw',\n",
              " 'Coca-cola',\n",
              " 'Colgate',\n",
              " 'Dell',\n",
              " 'Gucci',\n",
              " 'Lenovo,',\n",
              " 'Lg',\n",
              " 'Louis Vuitton',\n",
              " 'Nike',\n",
              " 'Pepsi',\n",
              " 'Porsche',\n",
              " 'Reebok',\n",
              " 'Royal Enfield',\n",
              " 'Samsung',\n",
              " 'Sony',\n",
              " 'Tesla',\n",
              " 'Zebronic']"
            ]
          },
          "metadata": {
            "tags": []
          },
          "execution_count": 33
        }
      ]
    },
    {
      "cell_type": "code",
      "metadata": {
        "colab": {
          "base_uri": "https://localhost:8080/"
        },
        "id": "IkqfU2J1UtYI",
        "outputId": "1c61c3be-30b5-47c5-c291-c5300c872355"
      },
      "source": [
        "# find out the brand which are overlapping in both cases\n",
        "set1 = set(list_of_brands1)\n",
        "set2 = set(list_of_brands2)\n",
        "overlapping = list(set1 & set2)\n",
        "print(overlapping)"
      ],
      "execution_count": 30,
      "outputs": [
        {
          "output_type": "stream",
          "text": [
            "['Bmw']\n"
          ],
          "name": "stdout"
        }
      ]
    },
    {
      "cell_type": "markdown",
      "metadata": {
        "id": "xV-IHz3Jhwed"
      },
      "source": [
        ""
      ]
    },
    {
      "cell_type": "code",
      "metadata": {
        "colab": {
          "base_uri": "https://localhost:8080/"
        },
        "id": "e9d000s6hvKH",
        "outputId": "e7c83cf4-e202-41dd-8fda-7bedb8ac8986"
      },
      "source": [
        "# Range with even number starting from 20 to 40\n",
        "for i in range(20,40,2):\n",
        "  print(i, end =\" \")\n",
        "print()\n",
        "\n"
      ],
      "execution_count": 41,
      "outputs": [
        {
          "output_type": "stream",
          "text": [
            "20 22 24 26 28 30 32 34 36 38 \n"
          ],
          "name": "stdout"
        }
      ]
    },
    {
      "cell_type": "code",
      "metadata": {
        "id": "EmTGXk2PieRq"
      },
      "source": [
        ""
      ],
      "execution_count": null,
      "outputs": []
    }
  ]
}